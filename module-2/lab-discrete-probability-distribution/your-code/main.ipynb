{
 "cells": [
  {
   "cell_type": "markdown",
   "metadata": {},
   "source": [
    "# Before your start:\n",
    "\n",
    "    Read the README.md file\n",
    "    Comment as much as you can and use the resources (README.md file)\n",
    "    Happy learning!\n",
    "\n",
    "*Notes:* \n",
    "\n",
    "- Solve the questions with python.\n",
    "\n",
    "- Round the final answer to three decimal places."
   ]
  },
  {
   "cell_type": "markdown",
   "metadata": {},
   "source": [
    "## Bernoulli's Distribution\n",
    "\n",
    "In a basket containing 100 fruits, there are 60 apples and 40 oranges. \n",
    "\n",
    "A fruit is picked randomly from the basket. \n",
    "\n",
    "1. **What is the probability that the fruit is apple?**\n",
    "1. **What is the probability that it is an orange?**"
   ]
  },
  {
   "cell_type": "code",
   "execution_count": 3,
   "metadata": {},
   "outputs": [
    {
     "name": "stdout",
     "output_type": "stream",
     "text": [
      "probability apple:  0.4 \n",
      " probability orange:  0.6\n"
     ]
    }
   ],
   "source": [
    "\"\"\"\n",
    "Calculate:\n",
    "p = probability that the fruit is an apple \n",
    "q = probability that the fruit is an orange\n",
    "\"\"\"\n",
    "# your code here\n",
    "p=40/100\n",
    "q=1-p\n",
    "print(\"probability apple: \",p, \"\\n probability orange: \", q)"
   ]
  },
  {
   "cell_type": "markdown",
   "metadata": {},
   "source": [
    "Now we take a random sample of 20 fruits from the basket. After each fruit is taken, a new fruit of the same type is replaced in the basket. Therefore, every time we are taking 1 fruit from 100 fruits. \n",
    "\n",
    "1. **What is the probability that the first 5 fruits are all apples?**\n",
    "\n",
    "1. **What is the probability that the first 5 fruits are all apples and the next 15 fruits are all oranges?**\n",
    "\n",
    "You can include the `p` and `q` probabilities you previous calculated in your solution."
   ]
  },
  {
   "cell_type": "markdown",
   "metadata": {},
   "source": [
    "--------------------------------------------\n",
    "Suponiendo que es homogéneo el sample de 20 frutas:\n",
    "- P(manzanas)=0.4\n",
    "- P(apples)=0.6\n",
    "- P(con reemplazamiento)= P(de lo que quiero) ^ (número de veces que saco bolas)\n",
    "- (^ == elevado a )"
   ]
  },
  {
   "cell_type": "code",
   "execution_count": 4,
   "metadata": {},
   "outputs": [
    {
     "name": "stdout",
     "output_type": "stream",
     "text": [
      "probability of 5 apples=  0.01 \n",
      " probability of first 5 apples and then 15 following apples: 0\n"
     ]
    }
   ],
   "source": [
    "print(\"probability of 5 apples= \", round(p**5,3), \n",
    "      \"\\n probability of first 5 apples and then 15 following apples:\", round((p**5)*(q**15)))"
   ]
  },
  {
   "cell_type": "markdown",
   "metadata": {},
   "source": [
    "------------------------------"
   ]
  },
  {
   "cell_type": "markdown",
   "metadata": {},
   "source": [
    "## Binomial Distribution\n",
    "\n",
    "Similar to the above problem, this time again we randomly sample 20 fruits.\n",
    "\n",
    "**What is the probability that this time the sample contains 5 apples and 15 oranges?**\n",
    "\n",
    "Please note that this time the order of the fruits being picked does not matter."
   ]
  },
  {
   "cell_type": "markdown",
   "metadata": {},
   "source": [
    "-----------------------\n",
    "## newtown stuff:\n",
    "\n",
    "    p == probability value of what you want\n",
    "    k == success\n",
    "    n == trials binom.pmf(k, n, p, loc) loc: a shifter parameter. check out the documentation\n",
    "\n",
    "- binom.pmf(k, n, p)\n",
    "------------------------"
   ]
  },
  {
   "cell_type": "code",
   "execution_count": 5,
   "metadata": {},
   "outputs": [
    {
     "name": "stdout",
     "output_type": "stream",
     "text": [
      "Para encontrar 5 manzanas en un bol de 20 frutas, teniendo en cuenta que la probabilidad \n",
      " de manzana es 0.6 es:  0.001\n"
     ]
    }
   ],
   "source": [
    "# Si suponemos que sigue existiendo la probabilidad 04, 0.6 de \n",
    "from scipy.stats import binom\n",
    "print(\"Para encontrar 5 manzanas en un bol de 20 frutas, teniendo en cuenta que la probabilidad\",\n",
    "      \"\\n de manzana es 0.6 es: \", round(binom.pmf(5,20,0.6),3))"
   ]
  },
  {
   "cell_type": "markdown",
   "metadata": {},
   "source": [
    "In the lesson we also discussed CDF (cumulative distribution function). In the context of the above problem, **what is the probability that less than 5 fruits picked are apples?**\n",
    "\n",
    "Write the formula and calculate the probability below."
   ]
  },
  {
   "cell_type": "markdown",
   "metadata": {},
   "source": [
    "---------\n",
    "# Info de my.ironhack:\n",
    "- The Continuous Uniform Distribution in Python\n",
    "\n",
    "The Scipy function for the uniform distribution can only receive 3 arguments. Therefore, we will be using the cumulative distribution function\n",
    "\n",
    "# Usar elementos de distribución contínua para ejercicios con elementos discretos..? O my.ironhack está mal, o no está bien explicado.\n",
    "https://docs.scipy.org/doc/scipy/reference/generated/scipy.stats.binom.html\n",
    "\n",
    "---------"
   ]
  },
  {
   "cell_type": "markdown",
   "metadata": {},
   "source": []
  },
  {
   "cell_type": "code",
   "execution_count": 6,
   "metadata": {},
   "outputs": [
    {
     "data": {
      "text/plain": [
       "0.2"
      ]
     },
     "execution_count": 6,
     "metadata": {},
     "output_type": "execute_result"
    }
   ],
   "source": [
    "from scipy.stats import uniform\n",
    "uniform.cdf(4, 0, 20)"
   ]
  },
  {
   "cell_type": "markdown",
   "metadata": {},
   "source": [
    "---------------\n",
    "- usar esta distribución para elementos discretos me está resultando bastante extraño.\n",
    "- por qué 4,0,20??? \n",
    "    - 4 frutas que quiero que sean manzanas\n",
    "    - empiezo de 0 a 20, ahí tengo mi 0-20.\n",
    "    - qué sabe uniform.cdf sobre el peso probabilístico de las manzanas/peras? el pesaje no es uniforme, entonces no deberíamos usar esta función... Digo yo.\n",
    "----------------"
   ]
  },
  {
   "cell_type": "markdown",
   "metadata": {},
   "source": [
    "**Plot the PDF (probability distributiom function) for the above binomial distribution.**\n",
    "\n",
    "*Hint: The range of x in a binomial distribution is from `0` to `n`.*"
   ]
  },
  {
   "cell_type": "code",
   "execution_count": null,
   "metadata": {},
   "outputs": [],
   "source": [
    "\n"
   ]
  },
  {
   "cell_type": "markdown",
   "metadata": {},
   "source": [
    "## Poisson Distribution\n",
    "\n",
    "In this challenge you are required to use the Math library in python to solve the problems.\n",
    "\n",
    "In the UEFA champions league tournament, the average number of goals scored in a match is 2.3. \n",
    "\n",
    "**What is the probability that the number of goals scored in a match is 5?**\n",
    "\n",
    "*Hint: Use the exp() in the math library*\n",
    "\n",
    "And to calculate the factorial, you can use the following code:\n",
    "\n",
    "```python\n",
    "import math\n",
    "math.factorial(n) # n is the number you want to find the factorial of\n",
    "```"
   ]
  },
  {
   "cell_type": "markdown",
   "metadata": {},
   "source": [
    "# Poisson\n",
    "- p(k)= [lambda ^k  * exp(- lambda) ] / k!\n",
    "- k == event\n",
    "- lambda == average measure"
   ]
  },
  {
   "cell_type": "code",
   "execution_count": 36,
   "metadata": {},
   "outputs": [
    {
     "name": "stdout",
     "output_type": "stream",
     "text": [
      "la probabilidad de marcar 5 goles en un pargido es: : 0.002\n"
     ]
    }
   ],
   "source": [
    "# your code here \n",
    "import math\n",
    "l=2.3 # average\n",
    "k=5   # event we want\n",
    "p= (l* math.exp((-l)))/ math.factorial(k)\n",
    "print(\"la probabilidad de marcar 5 goles en un pargido es: :\", round(p,3))"
   ]
  },
  {
   "cell_type": "markdown",
   "metadata": {},
   "source": [
    "**Draw a poisson probability distribution plot for the number of goals to be between 0 to 10.**"
   ]
  },
  {
   "cell_type": "code",
   "execution_count": 71,
   "metadata": {},
   "outputs": [],
   "source": []
  },
  {
   "cell_type": "code",
   "execution_count": 71,
   "metadata": {},
   "outputs": [],
   "source": [
    "'''\n",
    "# he intentado dibujar la distribución \"a lo bruto\", y lógicamente no me dibuja\n",
    "# una distribución, me dibuja una curva que cae mientras mayor es el eje x (normal)\n",
    "\n",
    "import random\n",
    "x=range(10)\n",
    "y=[]\n",
    "for e in x:\n",
    "    y.append((l* math.exp((-e)))/ math.factorial(e))\n",
    "\n",
    "plt.scatter(x,y)'''"
   ]
  },
  {
   "cell_type": "markdown",
   "metadata": {},
   "source": [
    "## Poisson reference \n",
    "- https://docs.scipy.org/doc/scipy/reference/generated/scipy.stats.poisson.html"
   ]
  },
  {
   "cell_type": "code",
   "execution_count": 72,
   "metadata": {},
   "outputs": [
    {
     "name": "stderr",
     "output_type": "stream",
     "text": [
      "/home/vargas/miniconda3/envs/ironhack/lib/python3.7/site-packages/ipykernel_launcher.py:5: UserWarning: In Matplotlib 3.3 individual lines on a stem plot will be added as a LineCollection instead of individual lines. This significantly improves the performance of a stem plot. To remove this warning and switch to the new behaviour, set the \"use_line_collection\" keyword argument to True.\n",
      "  \"\"\"\n"
     ]
    },
    {
     "data": {
      "text/plain": [
       "Text(0.5, 1.0, 'La probabilidad del evento A condicionado con A de la segunda parte contratante')"
      ]
     },
     "execution_count": 72,
     "metadata": {},
     "output_type": "execute_result"
    },
    {
     "data": {
      "image/png": "[encoded data removed]",
      "text/plain": [
       "<Figure size 432x288 with 1 Axes>"
      ]
     },
     "metadata": {
      "needs_background": "light"
     },
     "output_type": "display_data"
    }
   ],
   "source": [
    "from scipy.stats import poisson\n",
    "mu = 2.3\n",
    "x = list(range(11))\n",
    "y = poisson.pmf(x, mu)\n",
    "plt.stem(x, y)\n",
    "plt.xticks (x)\n",
    "plt.title ('La probabilidad del evento A condicionado con A de la segunda parte contratante')\n",
    " "
   ]
  },
  {
   "cell_type": "code",
   "execution_count": 51,
   "metadata": {},
   "outputs": [
    {
     "data": {
      "text/plain": [
       "[]"
      ]
     },
     "execution_count": 51,
     "metadata": {},
     "output_type": "execute_result"
    }
   ],
   "source": [
    "\n",
    "y"
   ]
  },
  {
   "cell_type": "markdown",
   "metadata": {},
   "source": [
    "## Notas de clase"
   ]
  },
  {
   "cell_type": "markdown",
   "metadata": {},
   "source": [
    "# Intro to Probability\n",
    "​\n",
    "- **Population:** The population includes all elements in a dataset\n",
    "- **Sample**: A subset of the population\n",
    "​\n",
    "![alt text](./images/m2/normal_distribution.png)\n",
    "​\n",
    "- **Random Variable**: Es una función definida sobre el espacio muestral `S` que asigna valores\n",
    "  del conjunto R de los numeros reales.\n",
    "  Intuitivamente, asigna un valor numerico a cada posible resultado del espacio muestral.\n",
    "  Por ejemplo, si el espacio muestral es {llueve, nieva, despejado}, podemos definir una\n",
    "  variable aleatoria `X` tal que `X=3` si llueve `X=6` si nieva y `X=-2.7` si esta despejado.\n",
    "​\n",
    "  Supongamos que las medidas de probabilidad son tales que:\n",
    "​\n",
    "  - `P(X=3)=P(lluvia)=0.4`\n",
    "  - `P(X=6)=P(nieve)=0.15`\n",
    "  - `P(X=-2.7)=P(despejado)=0.45`\n",
    "    También podemos calcular `P(X€ {3,6}) = P(X=3) + P(X=6) = 0.4+0.15 = 0.55`\n",
    "​\n",
    "    **La distribución** de la variable aleatoria `X` es el conjunto de probabilidades `P(X€B)` para todo subconjunto `B` de numeros reales. La probabolidad de `P(X€B)` se evalua calculando\n",
    "    las probabilidades del conjunto de valores de las respuestas de `S` tales que `X(S) € B`, es decir `P(X € B) = P({s € S : X(s) € B})`\n",
    "​\n",
    "## Distribuciones discretas\n",
    "​\n",
    "- **Discrete Distribution**: La probabilidad total asociada a una variable aleatoria `X` puede obtenerse a partir de la probabilidad de que `X` sea igual a **ciertos valores concretos**.\n",
    "  Una variable aleatoria es discreta si `sumatorio(x€R) de P(X=x) = 1`\n",
    "​\n",
    "### Principales distribuciones discretas\n",
    "​\n",
    "- **Bernoulli**: Bernoulli(⍬), lanzar una moneda con probabilidad `⍬` de que salga cara\n",
    "  y `1-⍬` que salga cruz, siendo `0<⍬<1`, ejemplo `X=1` si sale cara y `X=0` si sale cruz.\n",
    "  Las distribuciones de bernoulli se presentan cada vez que tenemos una variable respuesta que solo puede tomar dos valores.\n",
    "​\n",
    "  - **Ejemplos**: Prueba en cadena de producción, seleccionar una persona al azar y ver si es hombre o mujer, etc.\n",
    "​\n",
    "- **Binomial**: Binomial(n,⍬) (Binomial(1,⍬)=Bernoulli(⍬)) Lanzar `n` monendas al aire, cada una de las cuales tiene una probabilidad (independiente) ⍬ de que salga cara y 1-⍬ que salga cruz.\n",
    "​\n",
    "  - `P(X=x) = factorial(n)/factorial(n)*factorial(n-x)`.\n",
    "    La distribución binomial es aplicable en aquellas situaciones que implican `n` ensayos independientes de un sistema aleatorio. Para cada ensayo registramos `exito` o `fracaso`.\n",
    "    El numero de éxitos en `n` ensayos seguiría la distribución de binomial.\n",
    "  - **Ejemplo**: Un jugador de beisbol tiene una probabilidad `⍬` de conseguir un bateo en `n` intentos.\n",
    "  - https://docs.scipy.org/doc/scipy/reference/generated/scipy.stats.binom.html\n",
    "​\n",
    "- **Geométrica**: Consideremos el caso de lanzar repetidas veces una moneda (`⍬` de que salga cara y `1-⍬` que salga cruz). Sea `X` el numero de cruces que aparece antes de que salga cara.\n",
    "  - Cuenta el numero de fallos hasta que se produce un éxito:\n",
    "  - **Ejemplo**: Si fabricamos bombillas, el numoero de bombillas que funcionan hasta que sale la primera defectuosa\n",
    "  - https://docs.scipy.org/doc/scipy/reference/generated/scipy.stats.geom.html\n",
    "​\n",
    "## Distribuciones contínuas\n",
    "​\n",
    "- **Continuous Distribution**: You show up at a bus stop to wait for a bus that comes by once per hour. You do not know what time the bus came by last. The arrival time of the next bus is a continuous uniform distribution [0,1] measured in hours.\n",
    "​\n",
    "  - `P(X=x) = 0` para un punto concreto. Lo que suma 1 es la integral sobre todo `R`.\n",
    "  - Solo podemos calcular la probabilidad de `P(a <= X <= b)` usando la integral en ese rango. A esto se le llama **función de densidad**\n",
    "​\n",
    "### Principales distribuciones contínuas\n",
    "​\n",
    "- **Distribución uniforme**: `[0,1]` o `[L,R]`.\n",
    "  - Función de densidad es: `P(a <= X <= b) = (b-a)/(R-L)`\n",
    "  - Destacar que tiene el mismo valor de probabilidad para todos los intervalos\n",
    "  - https://docs.scipy.org/doc/scipy/reference/generated/scipy.stats.uniform.html\n",
    "- **Distribución exponencial**\n",
    "​\n",
    "  - `f(x)= e^(-x)` si `x>0` sino es `0`\n",
    "  - **Ejemplo** Se puede usar también para modelar tiempos de vida. Por ejemplo para calcular el tiempo de vida de una bombilla producida. Notse que el tiempo puede ser un valor en todo `R`.\n",
    "​\n",
    "  - https://docs.scipy.org/doc/scipy/reference/generated/scipy.stats.expon.html\n",
    "​\n",
    "- **Distribución Gamma**\n",
    "​\n",
    "  - Se puede usar también para modelar tiempos de vida ya que ofrece una familia de funciones con variedad de perfiles\n",
    "​\n",
    "- **Distribución Normal**: `N(mu,ro^2)`\n",
    "  - `ro^2`: Varianza, `ro`: Desviacion estándar\n",
    "  - Teorema del limite central\n",
    "  - https://docs.scipy.org/doc/scipy/reference/generated/scipy.stats.norm.html\n",
    "​\n",
    "## Terminos importantes de probabilidad\n",
    "​\n",
    "- **Conditional Probability**: The conditional probability P(A|B) is the probability of event A given that event B as occurred.\n",
    "  ![alt text](./images/m2/prob_conditional_1.png)\n",
    "  ![alt text](./images/m2/prob_conditional_table.png)\n",
    "  ![alt text](./images/m2/prob_conditional_formula_2.jpg)\n",
    "  ![alt text](./images/m2/prob_conditional_formula_1.jpg)\n",
    "​\n",
    "  - **Visualization** http://setosa.io/conditional/\n",
    "​\n",
    "- **Mutual exclusivity**: Two events are said to be mutually exclusive if they cannot happen at the same time.\n",
    "  For example, if we toss a coin, either heads or tails might turn up, but not heads and tails at the same time.\n",
    "  ![alt text](./images/m2/mutual_exclusivity.webp)\n",
    "​\n",
    "- **Variance**: The average of the squared differences from the Mean.\n",
    "  _ Work out the Mean (the simple average of the numbers)\n",
    "  _ Then for each number: subtract the Mean and square the result (the squared difference).\n",
    "  _ Then work out the average of those squared differences.\n",
    "  _ https://www.mathsisfun.com/data/standard-deviation.html#WhySquare\n",
    "​\n",
    "- **Standard Deviation:** The Standard Deviation is a measure of how spread out numbers are. Its symbol is σ. it is the square root of the **Variance**."
   ]
  },
  {
   "cell_type": "code",
   "execution_count": null,
   "metadata": {},
   "outputs": [],
   "source": []
  }
 ],
 "metadata": {
  "kernelspec": {
   "display_name": "Python 3",
   "language": "python",
   "name": "python3"
  },
  "language_info": {
   "codemirror_mode": {
    "name": "ipython",
    "version": 3
   },
   "file_extension": ".py",
   "mimetype": "text/x-python",
   "name": "python",
   "nbconvert_exporter": "python",
   "pygments_lexer": "ipython3",
   "version": "3.7.4"
  }
 },
 "nbformat": 4,
 "nbformat_minor": 4
}
