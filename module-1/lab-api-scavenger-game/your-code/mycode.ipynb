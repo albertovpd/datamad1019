{
 "cells": [
  {
   "cell_type": "markdown",
   "metadata": {},
   "source": [
    "# Me copio la pokeapi porque es genial"
   ]
  },
  {
   "cell_type": "code",
   "execution_count": 2,
   "metadata": {},
   "outputs": [
    {
     "name": "stdout",
     "output_type": "stream",
     "text": [
      "Requesting url https://pokeapi.co/api/v2/pokemon/25...\n",
      "done\n"
     ]
    },
    {
     "data": {
      "text/plain": [
       "{'name': 'pikachu',\n",
       " 'image': 'https://raw.githubusercontent.com/PokeAPI/sprites/master/sprites/pokemon/25.png'}"
      ]
     },
     "execution_count": 2,
     "metadata": {},
     "output_type": "execute_result"
    }
   ],
   "source": [
    "import requests\n",
    "\n",
    "def getPokemon(number):\n",
    "    url = \"https://pokeapi.co/api/v2/pokemon/{}\".format(number)\n",
    "    print(\"Requesting url {}...\".format(url))\n",
    "    res = requests.get(url)\n",
    "    data = res.json()\n",
    "    print(\"done\")\n",
    "    \n",
    "    return {\n",
    "        \"name\": data[\"name\"],\n",
    "        \"image\": data[\"sprites\"][\"front_default\"]\n",
    "    }\n",
    "\n",
    "getPokemon(25)"
   ]
  },
  {
   "cell_type": "code",
   "execution_count": null,
   "metadata": {},
   "outputs": [],
   "source": [
    "# and seen the pics in jupyter-lab seems delightful\n",
    "from IPython.display import Image\n",
    "from IPython.core.display import HTML \n",
    "\n",
    "for i in range(1,10):\n",
    "    pokemon = getPokemon(i)\n",
    "    display(Image(url=pokemon[\"image\"]))"
   ]
  },
  {
   "cell_type": "markdown",
   "metadata": {},
   "source": [
    "# THE LAB"
   ]
  },
  {
   "cell_type": "markdown",
   "metadata": {},
   "source": [
    "# Connecting the API"
   ]
  },
  {
   "cell_type": "code",
   "execution_count": 8,
   "metadata": {},
   "outputs": [],
   "source": [
    "import os\n",
    "from dotenv import load_dotenv\n",
    "load_dotenv()\n",
    "\n",
    "# https://developer.github.com/v3/\n",
    "def githubRequestAuthorized(resource):\n",
    "    authToken = os.getenv(\"GITHUB_API_TOKEN\")\n",
    "    if not authToken:\n",
    "        raise ValueError(\"NECESITAS UN TOKEN\")\n",
    "    else:\n",
    "        print(\"We have a github token: \", authToken[0:4])\n",
    "    headers = {\n",
    "        \"Authorization\": \"token {}\".format(authToken)\n",
    "    }\n",
    "    url = \"https://api.github.com{}\".format(resource)\n",
    "    print(\"Requesting authorized {}\".format(url))\n",
    "    res = requests.get(url, headers=headers)\n",
    "    return res"
   ]
  },
  {
   "cell_type": "code",
   "execution_count": null,
   "metadata": {},
   "outputs": [],
   "source": [
    "# os.getenv(\"GITHUB_API_TOKEN\")"
   ]
  },
  {
   "cell_type": "code",
   "execution_count": 24,
   "metadata": {},
   "outputs": [
    {
     "name": "stdout",
     "output_type": "stream",
     "text": [
      "We have a github token:  4660\n",
      "Requesting authorized https://api.github.com/repos/ironhack-datalabs/datamad1019/forks\n"
     ]
    }
   ],
   "source": [
    "data=githubRequestAuthorized(\"/repos/ironhack-datalabs/datamad1019/forks\").json()"
   ]
  },
  {
   "cell_type": "code",
   "execution_count": null,
   "metadata": {},
   "outputs": [],
   "source": [
    "data\n",
    "# data is a list with dictionaries inside. just navigate through them and try to find the right key"
   ]
  },
  {
   "cell_type": "markdown",
   "metadata": {},
   "source": [
    "# Challenge 1"
   ]
  },
  {
   "cell_type": "code",
   "execution_count": 76,
   "metadata": {},
   "outputs": [
    {
     "name": "stdout",
     "output_type": "stream",
     "text": [
      "We have a github token:  4660\n",
      "Requesting authorized https://api.github.com/repos/ironhack-datalabs/datamad1019/forks\n",
      "{None, 'Jupyter Notebook'}\n"
     ]
    }
   ],
   "source": [
    "# list of languages\n",
    "lang_list = list(map(lambda repo: repo[\"language\"], data))\n",
    "lang_list = set (lang_list)\n",
    "print (lang_list)\n",
    "\n",
    "# there are none because of the characteristics of this data"
   ]
  },
  {
   "cell_type": "markdown",
   "metadata": {},
   "source": [
    "# Challenge 2. Get the commits of a concrete folder"
   ]
  },
  {
   "cell_type": "code",
   "execution_count": 108,
   "metadata": {},
   "outputs": [],
   "source": [
    "# to get all commits of a concrete folder using git info\n",
    "# https://github.com/ironhack-datalabs/datamad1019/tree/master/module-1/lab-api-scavenger-game"
   ]
  },
  {
   "cell_type": "code",
   "execution_count": 108,
   "metadata": {},
   "outputs": [
    {
     "name": "stdout",
     "output_type": "stream",
     "text": [
      "We have a github token:  4660\n",
      "Requesting authorized https://api.github.com/repos/ironhack-datalabs/mad-oct-2018/commits\n"
     ]
    }
   ],
   "source": [
    "data_commits=githubRequestAuthorized(\"/repos/ironhack-datalabs/mad-oct-2018/commits\").json()"
   ]
  },
  {
   "cell_type": "code",
   "execution_count": 116,
   "metadata": {},
   "outputs": [
    {
     "name": "stdout",
     "output_type": "stream",
     "text": [
      "nº of commits=  30\n"
     ]
    }
   ],
   "source": [
    "commits=0\n",
    "\n",
    "for x in data_commits:\n",
    "    for y in x:\n",
    "        if y==\"commit\":\n",
    "            commits+=1\n",
    "print(\"nº of commits= \",commits) "
   ]
  },
  {
   "cell_type": "markdown",
   "metadata": {},
   "source": [
    "# Challenge 3: Looking for easter eggs in github repositories"
   ]
  },
  {
   "cell_type": "code",
   "execution_count": null,
   "metadata": {},
   "outputs": [],
   "source": []
  }
 ],
 "metadata": {
  "kernelspec": {
   "display_name": "Python 3",
   "language": "python",
   "name": "python3"
  },
  "language_info": {
   "codemirror_mode": {
    "name": "ipython",
    "version": 3
   },
   "file_extension": ".py",
   "mimetype": "text/x-python",
   "name": "python",
   "nbconvert_exporter": "python",
   "pygments_lexer": "ipython3",
   "version": "3.7.4"
  }
 },
 "nbformat": 4,
 "nbformat_minor": 4
}
