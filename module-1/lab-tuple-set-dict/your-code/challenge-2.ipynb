{
 "cells": [
  {
   "cell_type": "markdown",
   "metadata": {},
   "source": [
    "## Challenge 2: Sets\n",
    "\n",
    "There are a lot to learn about Python Sets and the information presented in the lesson is limited due to its length. To learn Python Sets in depth you are strongly encouraged to review the W3Schools tutorial on [Python Sets Examples and Methods](https://www.w3schools.com/python/python_sets.asp) before you work on this lab. Some difficult questions in this lab have their solutions in the W3Schools tutorial.\n",
    "\n",
    "#### First, import the Python `random` libary"
   ]
  },
  {
   "cell_type": "code",
   "execution_count": 118,
   "metadata": {},
   "outputs": [],
   "source": [
    "import random\n"
   ]
  },
  {
   "cell_type": "markdown",
   "metadata": {},
   "source": [
    "#### In the cell below, create a list named `sample_list_1` with 80 random values. \n",
    "\n",
    "Requirements:\n",
    "\n",
    "* Each value is an integer falling between 0 and 100.\n",
    "* Each value in the list is unique.\n",
    "\n",
    "Print `sample_list_1` to review its values\n",
    "\n",
    "*Hint: use `random.sample` ([reference](https://docs.python.org/3/library/random.html#random.sample)).*"
   ]
  },
  {
   "cell_type": "code",
   "execution_count": 119,
   "metadata": {},
   "outputs": [
    {
     "name": "stdout",
     "output_type": "stream",
     "text": [
      "[61, 76, 0, 92, 88, 53, 91, 41, 8, 28, 19, 4, 6, 37, 67, 90, 62, 71, 65, 22, 2, 64, 20, 16, 48, 98, 97, 70, 9, 15, 33, 77, 42, 54, 17, 69, 58, 85, 96, 43, 87, 75, 66, 31, 10, 36, 7, 44, 82, 30, 99, 79, 21, 93, 59, 29, 35, 51, 86, 18, 32, 80, 12, 45, 78, 56, 38, 55, 83, 23, 5, 50, 46, 3, 40, 25, 39, 11, 14, 13]\n"
     ]
    }
   ],
   "source": [
    "# Your code here\n",
    "sample_list_1 = random.sample(range(100), 80)\n",
    "print(sample_list_1)"
   ]
  },
  {
   "cell_type": "markdown",
   "metadata": {},
   "source": [
    "#### Convert `sample_list_1` to a set called `set1`. Print the length of the set. Is its length still 80?"
   ]
  },
  {
   "cell_type": "code",
   "execution_count": 120,
   "metadata": {},
   "outputs": [
    {
     "name": "stdout",
     "output_type": "stream",
     "text": [
      "80\n"
     ]
    }
   ],
   "source": [
    "# Your code here\n",
    "set1=set(sample_list_1)\n",
    "print(len(set1))"
   ]
  },
  {
   "cell_type": "markdown",
   "metadata": {},
   "source": [
    "#### Create another list named `sample_list_2` with 80 random values.\n",
    "\n",
    "Requirements:\n",
    "\n",
    "* Each value is an integer falling between 0 and 100.\n",
    "* The values in the list don't have to be unique.\n",
    "\n",
    "*Hint: Use a FOR loop.*"
   ]
  },
  {
   "cell_type": "code",
   "execution_count": 121,
   "metadata": {},
   "outputs": [
    {
     "name": "stdout",
     "output_type": "stream",
     "text": [
      "[92, 12, 100, 62, 47, 89, 64, 17, 26, 16, 81, 77, 5, 2, 77, 100, 43, 0, 56, 20, 13, 0, 33, 68, 92, 5, 77, 82, 100, 61, 37, 99, 95, 52, 83, 24, 64, 80, 78, 2, 72, 74, 72, 89, 36, 62, 63, 49, 10, 51, 72, 10, 39, 70, 61, 2, 76, 37, 22, 83, 32, 23, 11, 63, 1, 36, 5, 49, 62, 27, 71, 75, 5, 72, 71, 83, 81, 22, 55, 24]\n"
     ]
    }
   ],
   "source": [
    "# RANDRANGE ES ÚTIL\n",
    "sample_list_2=[]\n",
    "for x in range(80):\n",
    "    sample_list_2.append(random.randrange(101))\n",
    "print(sample_list_2)"
   ]
  },
  {
   "cell_type": "markdown",
   "metadata": {},
   "source": [
    "#### Convert `sample_list_2` to a set called `set2`. Print the length of the set. Is its length still 80?"
   ]
  },
  {
   "cell_type": "code",
   "execution_count": 122,
   "metadata": {},
   "outputs": [
    {
     "name": "stdout",
     "output_type": "stream",
     "text": [
      "50\n"
     ]
    }
   ],
   "source": [
    "# Your code here\n",
    "set2=set(sample_list_2)\n",
    "print(len(set2))"
   ]
  },
  {
   "cell_type": "markdown",
   "metadata": {},
   "source": [
    "#### Identify the elements present in `set1` but not in `set2`. Assign the elements to a new set named `set3`."
   ]
  },
  {
   "cell_type": "code",
   "execution_count": 123,
   "metadata": {},
   "outputs": [],
   "source": [
    "# Your code here\n",
    "# set3=[]\n",
    "# for e in set2:\n",
    "#     if e in set1:\n",
    "#         set3.append(e)\n",
    "\n",
    "set3=set1.difference(set2)"
   ]
  },
  {
   "cell_type": "markdown",
   "metadata": {},
   "source": [
    "#### Identify the elements present in `set2` but not in `set1`. Assign the elements to a new set named `set4`."
   ]
  },
  {
   "cell_type": "code",
   "execution_count": 124,
   "metadata": {},
   "outputs": [],
   "source": [
    "# mi jaleo inicial\n",
    "# set4=[]\n",
    "# for e in set2:\n",
    "#    if e not in set1:\n",
    "#         set4.append(e)\n",
    "\n",
    "set4=set2.difference(set1)"
   ]
  },
  {
   "cell_type": "markdown",
   "metadata": {},
   "source": [
    "#### Now Identify the elements shared between `set1` and `set2`. Assign the elements to a new set named `set5`."
   ]
  },
  {
   "cell_type": "code",
   "execution_count": 125,
   "metadata": {},
   "outputs": [],
   "source": [
    "# Your code here\n",
    "set5=set2.intersection(set1)"
   ]
  },
  {
   "cell_type": "markdown",
   "metadata": {},
   "source": [
    "#### What is the relationship among the following values:\n",
    "\n",
    "* len(set1)\n",
    "* len(set2)\n",
    "* len(set3)\n",
    "* len(set4)\n",
    "* len(set5)\n",
    "\n",
    "Use a math formular to represent that relationship. Test your formular with Python code."
   ]
  },
  {
   "cell_type": "code",
   "execution_count": 126,
   "metadata": {},
   "outputs": [
    {
     "name": "stdout",
     "output_type": "stream",
     "text": [
      "True\n"
     ]
    }
   ],
   "source": [
    "# Your code here\n",
    "a=len(set1)\n",
    "b=len(set2)\n",
    "c=len(set3)\n",
    "c=len(set4)\n",
    "d=len(set5)\n",
    "\n",
    "print(b==(d+c)) \n",
    "# pues aquí tengo una relación. \n",
    "# cacharrear con longitudes? Pues ok. Cacharrear con conjuntos? Pues ok.\n",
    "# Pero me parece que intentar analizar conjuntos con longitudes no tiene mucho sentido\n",
    "\n"
   ]
  },
  {
   "cell_type": "code",
   "execution_count": 127,
   "metadata": {},
   "outputs": [
    {
     "name": "stdout",
     "output_type": "stream",
     "text": [
      "False\n"
     ]
    }
   ],
   "source": [
    "print(a-b==c) #viendo cosas de conjuntos"
   ]
  },
  {
   "cell_type": "code",
   "execution_count": 128,
   "metadata": {},
   "outputs": [
    {
     "name": "stdout",
     "output_type": "stream",
     "text": [
      "False\n"
     ]
    }
   ],
   "source": [
    "print(d==e) # viendo cosas de conjuntos"
   ]
  },
  {
   "cell_type": "code",
   "execution_count": 129,
   "metadata": {},
   "outputs": [
    {
     "name": "stdout",
     "output_type": "stream",
     "text": [
      "El set  {0, 2, 3, 4, 5, 6, 7, 8, 9, 10, 11, 12, 13, 14, 15, 16, 17, 18, 19, 20, 21, 22, 23, 25, 28, 29, 30, 31, 32, 33, 35, 36, 37, 38, 39, 40, 41, 42, 43, 44, 45, 46, 48, 50, 51, 53, 54, 55, 56, 58, 59, 61, 62, 64, 65, 66, 67, 69, 70, 71, 75, 76, 77, 78, 79, 80, 82, 83, 85, 86, 87, 88, 90, 91, 92, 93, 96, 97, 98, 99} \n",
      " tiene elementos que no están en  \n",
      " {0, 2, 3, 4, 5, 6, 7, 8, 9, 10, 11, 12, 13, 14, 15, 16, 17, 18, 19, 20, 21, 22, 23, 25, 28, 29, 30, 31, 32, 33, 35, 36, 37, 38, 39, 40, 41, 42, 43, 44, 45, 46, 48, 50, 51, 53, 54, 55, 56, 58, 59, 61, 62, 64, 65, 66, 67, 69, 70, 71, 75, 76, 77, 78, 79, 80, 82, 83, 85, 86, 87, 88, 90, 91, 92, 93, 96, 97, 98, 99} \n",
      "\n",
      "El set  {0, 2, 3, 4, 5, 6, 7, 8, 9, 10, 11, 12, 13, 14, 15, 16, 17, 18, 19, 20, 21, 22, 23, 25, 28, 29, 30, 31, 32, 33, 35, 36, 37, 38, 39, 40, 41, 42, 43, 44, 45, 46, 48, 50, 51, 53, 54, 55, 56, 58, 59, 61, 62, 64, 65, 66, 67, 69, 70, 71, 75, 76, 77, 78, 79, 80, 82, 83, 85, 86, 87, 88, 90, 91, 92, 93, 96, 97, 98, 99} \n",
      " tiene elementos que no están en  \n",
      " {0, 1, 2, 5, 10, 11, 12, 13, 16, 17, 20, 22, 23, 24, 26, 27, 32, 33, 36, 37, 39, 43, 47, 49, 51, 52, 55, 56, 61, 62, 63, 64, 68, 70, 71, 72, 74, 75, 76, 77, 78, 80, 81, 82, 83, 89, 92, 95, 99, 100} \n",
      "\n",
      "El set  {0, 2, 3, 4, 5, 6, 7, 8, 9, 10, 11, 12, 13, 14, 15, 16, 17, 18, 19, 20, 21, 22, 23, 25, 28, 29, 30, 31, 32, 33, 35, 36, 37, 38, 39, 40, 41, 42, 43, 44, 45, 46, 48, 50, 51, 53, 54, 55, 56, 58, 59, 61, 62, 64, 65, 66, 67, 69, 70, 71, 75, 76, 77, 78, 79, 80, 82, 83, 85, 86, 87, 88, 90, 91, 92, 93, 96, 97, 98, 99} \n",
      " tiene elementos que no están en  \n",
      " {1, 68, 100, 72, 74, 47, 49, 81, 52, 24, 89, 26, 27, 95, 63} \n",
      "\n",
      "El set  {0, 2, 3, 4, 5, 6, 7, 8, 9, 10, 11, 12, 13, 14, 15, 16, 17, 18, 19, 20, 21, 22, 23, 25, 28, 29, 30, 31, 32, 33, 35, 36, 37, 38, 39, 40, 41, 42, 43, 44, 45, 46, 48, 50, 51, 53, 54, 55, 56, 58, 59, 61, 62, 64, 65, 66, 67, 69, 70, 71, 75, 76, 77, 78, 79, 80, 82, 83, 85, 86, 87, 88, 90, 91, 92, 93, 96, 97, 98, 99} \n",
      " tiene elementos que no están en  \n",
      " {0, 2, 5, 10, 11, 12, 13, 16, 17, 20, 22, 23, 32, 33, 36, 37, 39, 43, 51, 55, 56, 61, 62, 64, 70, 71, 75, 76, 77, 78, 80, 82, 83, 92, 99} \n",
      "\n",
      "El set  {0, 1, 2, 5, 10, 11, 12, 13, 16, 17, 20, 22, 23, 24, 26, 27, 32, 33, 36, 37, 39, 43, 47, 49, 51, 52, 55, 56, 61, 62, 63, 64, 68, 70, 71, 72, 74, 75, 76, 77, 78, 80, 81, 82, 83, 89, 92, 95, 99, 100} \n",
      " tiene elementos que no están en  \n",
      " {0, 2, 3, 4, 5, 6, 7, 8, 9, 10, 11, 12, 13, 14, 15, 16, 17, 18, 19, 20, 21, 22, 23, 25, 28, 29, 30, 31, 32, 33, 35, 36, 37, 38, 39, 40, 41, 42, 43, 44, 45, 46, 48, 50, 51, 53, 54, 55, 56, 58, 59, 61, 62, 64, 65, 66, 67, 69, 70, 71, 75, 76, 77, 78, 79, 80, 82, 83, 85, 86, 87, 88, 90, 91, 92, 93, 96, 97, 98, 99} \n",
      "\n",
      "El set  {0, 1, 2, 5, 10, 11, 12, 13, 16, 17, 20, 22, 23, 24, 26, 27, 32, 33, 36, 37, 39, 43, 47, 49, 51, 52, 55, 56, 61, 62, 63, 64, 68, 70, 71, 72, 74, 75, 76, 77, 78, 80, 81, 82, 83, 89, 92, 95, 99, 100} \n",
      " tiene elementos que no están en  \n",
      " {0, 1, 2, 5, 10, 11, 12, 13, 16, 17, 20, 22, 23, 24, 26, 27, 32, 33, 36, 37, 39, 43, 47, 49, 51, 52, 55, 56, 61, 62, 63, 64, 68, 70, 71, 72, 74, 75, 76, 77, 78, 80, 81, 82, 83, 89, 92, 95, 99, 100} \n",
      "\n",
      "El set  {0, 1, 2, 5, 10, 11, 12, 13, 16, 17, 20, 22, 23, 24, 26, 27, 32, 33, 36, 37, 39, 43, 47, 49, 51, 52, 55, 56, 61, 62, 63, 64, 68, 70, 71, 72, 74, 75, 76, 77, 78, 80, 81, 82, 83, 89, 92, 95, 99, 100} \n",
      " tiene elementos que no están en  \n",
      " {1, 68, 100, 72, 74, 47, 49, 81, 52, 24, 89, 26, 27, 95, 63} \n",
      "\n",
      "El set  {0, 1, 2, 5, 10, 11, 12, 13, 16, 17, 20, 22, 23, 24, 26, 27, 32, 33, 36, 37, 39, 43, 47, 49, 51, 52, 55, 56, 61, 62, 63, 64, 68, 70, 71, 72, 74, 75, 76, 77, 78, 80, 81, 82, 83, 89, 92, 95, 99, 100} \n",
      " tiene elementos que no están en  \n",
      " {0, 2, 5, 10, 11, 12, 13, 16, 17, 20, 22, 23, 32, 33, 36, 37, 39, 43, 51, 55, 56, 61, 62, 64, 70, 71, 75, 76, 77, 78, 80, 82, 83, 92, 99} \n",
      "\n",
      "El set  {1, 68, 100, 72, 74, 47, 49, 81, 52, 24, 89, 26, 27, 95, 63} \n",
      " tiene elementos que no están en  \n",
      " {0, 2, 3, 4, 5, 6, 7, 8, 9, 10, 11, 12, 13, 14, 15, 16, 17, 18, 19, 20, 21, 22, 23, 25, 28, 29, 30, 31, 32, 33, 35, 36, 37, 38, 39, 40, 41, 42, 43, 44, 45, 46, 48, 50, 51, 53, 54, 55, 56, 58, 59, 61, 62, 64, 65, 66, 67, 69, 70, 71, 75, 76, 77, 78, 79, 80, 82, 83, 85, 86, 87, 88, 90, 91, 92, 93, 96, 97, 98, 99} \n",
      "\n",
      "El set  {1, 68, 100, 72, 74, 47, 49, 81, 52, 24, 89, 26, 27, 95, 63} \n",
      " tiene elementos que no están en  \n",
      " {0, 1, 2, 5, 10, 11, 12, 13, 16, 17, 20, 22, 23, 24, 26, 27, 32, 33, 36, 37, 39, 43, 47, 49, 51, 52, 55, 56, 61, 62, 63, 64, 68, 70, 71, 72, 74, 75, 76, 77, 78, 80, 81, 82, 83, 89, 92, 95, 99, 100} \n",
      "\n",
      "El set  {1, 68, 100, 72, 74, 47, 49, 81, 52, 24, 89, 26, 27, 95, 63} \n",
      " tiene elementos que no están en  \n",
      " {1, 68, 100, 72, 74, 47, 49, 81, 52, 24, 89, 26, 27, 95, 63} \n",
      "\n",
      "El set  {1, 68, 100, 72, 74, 47, 49, 81, 52, 24, 89, 26, 27, 95, 63} \n",
      " tiene elementos que no están en  \n",
      " {0, 2, 5, 10, 11, 12, 13, 16, 17, 20, 22, 23, 32, 33, 36, 37, 39, 43, 51, 55, 56, 61, 62, 64, 70, 71, 75, 76, 77, 78, 80, 82, 83, 92, 99} \n",
      "\n",
      "El set  {0, 2, 5, 10, 11, 12, 13, 16, 17, 20, 22, 23, 32, 33, 36, 37, 39, 43, 51, 55, 56, 61, 62, 64, 70, 71, 75, 76, 77, 78, 80, 82, 83, 92, 99} \n",
      " tiene elementos que no están en  \n",
      " {0, 2, 3, 4, 5, 6, 7, 8, 9, 10, 11, 12, 13, 14, 15, 16, 17, 18, 19, 20, 21, 22, 23, 25, 28, 29, 30, 31, 32, 33, 35, 36, 37, 38, 39, 40, 41, 42, 43, 44, 45, 46, 48, 50, 51, 53, 54, 55, 56, 58, 59, 61, 62, 64, 65, 66, 67, 69, 70, 71, 75, 76, 77, 78, 79, 80, 82, 83, 85, 86, 87, 88, 90, 91, 92, 93, 96, 97, 98, 99} \n",
      "\n",
      "El set  {0, 2, 5, 10, 11, 12, 13, 16, 17, 20, 22, 23, 32, 33, 36, 37, 39, 43, 51, 55, 56, 61, 62, 64, 70, 71, 75, 76, 77, 78, 80, 82, 83, 92, 99} \n",
      " tiene elementos que no están en  \n",
      " {0, 1, 2, 5, 10, 11, 12, 13, 16, 17, 20, 22, 23, 24, 26, 27, 32, 33, 36, 37, 39, 43, 47, 49, 51, 52, 55, 56, 61, 62, 63, 64, 68, 70, 71, 72, 74, 75, 76, 77, 78, 80, 81, 82, 83, 89, 92, 95, 99, 100} \n",
      "\n",
      "El set  {0, 2, 5, 10, 11, 12, 13, 16, 17, 20, 22, 23, 32, 33, 36, 37, 39, 43, 51, 55, 56, 61, 62, 64, 70, 71, 75, 76, 77, 78, 80, 82, 83, 92, 99} \n",
      " tiene elementos que no están en  \n",
      " {1, 68, 100, 72, 74, 47, 49, 81, 52, 24, 89, 26, 27, 95, 63} \n",
      "\n",
      "El set  {0, 2, 5, 10, 11, 12, 13, 16, 17, 20, 22, 23, 32, 33, 36, 37, 39, 43, 51, 55, 56, 61, 62, 64, 70, 71, 75, 76, 77, 78, 80, 82, 83, 92, 99} \n",
      " tiene elementos que no están en  \n",
      " {0, 2, 5, 10, 11, 12, 13, 16, 17, 20, 22, 23, 32, 33, 36, 37, 39, 43, 51, 55, 56, 61, 62, 64, 70, 71, 75, 76, 77, 78, 80, 82, 83, 92, 99} \n",
      "\n"
     ]
    }
   ],
   "source": [
    "# Para conjuntos. Creo que no está bien del todo, pero yo haría algo así\n",
    "formular2=[set1,set2,set4,set5]\n",
    "for e in formular2:\n",
    "    for i in formular2:\n",
    "        no_estan=e.difference(i)\n",
    "        if no_estan!=[0]:\n",
    "            print(\"El set \", e, \"\\n\", \"tiene elementos que no están en \",\"\\n\",i,\"\\n\")\n",
    "        else:\n",
    "            print(\"Creo que el set\", \"\\n\",i, \"interseccionan o son unión con \",\"\\n\", e,\"\\n\", i)\n"
   ]
  },
  {
   "cell_type": "markdown",
   "metadata": {},
   "source": [
    "#### Create an empty set called `set6`."
   ]
  },
  {
   "cell_type": "code",
   "execution_count": 130,
   "metadata": {},
   "outputs": [],
   "source": [
    "# Your code here\n",
    "set6=set()"
   ]
  },
  {
   "cell_type": "markdown",
   "metadata": {},
   "source": [
    "#### Add `set3` and `set5` to `set6` using the Python Set `update` method."
   ]
  },
  {
   "cell_type": "code",
   "execution_count": 131,
   "metadata": {},
   "outputs": [],
   "source": [
    "# Your code here\n",
    "set6.update(set3,set5)"
   ]
  },
  {
   "cell_type": "markdown",
   "metadata": {},
   "source": [
    "#### Check if `set1` and `set6` are equal."
   ]
  },
  {
   "cell_type": "code",
   "execution_count": 132,
   "metadata": {},
   "outputs": [
    {
     "name": "stdout",
     "output_type": "stream",
     "text": [
      "True\n"
     ]
    }
   ],
   "source": [
    "# Your code here\n",
    "print(set1==set6)\n",
    "# podría hacer un if pero la doble igualdad ya me da el resultado"
   ]
  },
  {
   "cell_type": "markdown",
   "metadata": {},
   "source": [
    "#### Check if `set1` contains `set2` using the Python Set `issubset` method. Then check if `set1` contains `set3`.*"
   ]
  },
  {
   "cell_type": "code",
   "execution_count": 133,
   "metadata": {},
   "outputs": [
    {
     "name": "stdout",
     "output_type": "stream",
     "text": [
      "False\n",
      "True\n"
     ]
    }
   ],
   "source": [
    "# Your code here\n",
    "print(set1.issubset(set2))\n",
    "print(set3.issubset(set1))"
   ]
  },
  {
   "cell_type": "markdown",
   "metadata": {},
   "source": [
    "#### Using the Python Set `union` method, aggregate `set3`, `set4`, and `set5`. Then aggregate `set1` and `set2`. \n",
    "\n",
    "#### Check if the aggregated values are equal."
   ]
  },
  {
   "cell_type": "code",
   "execution_count": 134,
   "metadata": {},
   "outputs": [],
   "source": [
    "# Your code here\n",
    "ej_11a=set3.union(set4,set5)\n",
    "ej_11b=set1.union(set2)"
   ]
  },
  {
   "cell_type": "markdown",
   "metadata": {},
   "source": [
    "#### Using the `pop` method, remove the first element from `set1`."
   ]
  },
  {
   "cell_type": "code",
   "execution_count": 137,
   "metadata": {},
   "outputs": [
    {
     "name": "stdout",
     "output_type": "stream",
     "text": [
      "{0, 2, 3, 4, 5, 6, 7, 8, 9, 10, 11, 12, 13, 14, 15, 16, 17, 18, 19, 20, 21, 22, 23, 25, 28, 29, 30, 31, 32, 33, 35, 36, 37, 38, 39, 40, 41, 42, 43, 44, 45, 46, 48, 50, 51, 53, 54, 55, 56, 58, 59, 61, 62, 64, 65, 66, 67, 69, 70, 71, 75, 76, 77, 78, 79, 80, 82, 83, 85, 86, 87, 88, 90, 91, 92, 93, 96, 97, 98, 99}\n"
     ]
    },
    {
     "data": {
      "text/plain": [
       "0"
      ]
     },
     "execution_count": 137,
     "metadata": {},
     "output_type": "execute_result"
    }
   ],
   "source": [
    "# Your code here\n",
    "print(set1)\n",
    "set1.pop()\n",
    "\n",
    "# Yo esto no lo entiendo, porque se supone que pop() te elimina un \n",
    "# elemento random, pero siempre me elimina el primero"
   ]
  },
  {
   "cell_type": "markdown",
   "metadata": {},
   "source": [
    "#### Remove every element in the following list from `set1` if they are present in the set. Print the remaining elements.\n",
    "\n",
    "```\n",
    "list_to_remove = [1, 9, 11, 19, 21, 29, 31, 39, 41, 49, 51, 59, 61, 69, 71, 79, 81, 89, 91, 99]\n",
    "```"
   ]
  },
  {
   "cell_type": "code",
   "execution_count": 140,
   "metadata": {},
   "outputs": [
    {
     "name": "stdout",
     "output_type": "stream",
     "text": [
      "[1, 49, 81, 89]\n"
     ]
    }
   ],
   "source": [
    "# Your code here\n",
    "# set1 lo tengo de antes\n",
    "list_to_remove = [1, 9, 11, 19, 21, 29, 31, 39, 41, 49, 51, 59, 61, 69, 71, 79, 81, 89, 91, 99]\n",
    "remaining=[]\n",
    "for x in list_to_remove:\n",
    "    if x not in set1:\n",
    "        remaining.append(x)\n",
    "print(remaining)"
   ]
  },
  {
   "cell_type": "code",
   "execution_count": null,
   "metadata": {},
   "outputs": [],
   "source": []
  }
 ],
 "metadata": {
  "kernelspec": {
   "display_name": "Python 3",
   "language": "python",
   "name": "python3"
  },
  "language_info": {
   "codemirror_mode": {
    "name": "ipython",
    "version": 3
   },
   "file_extension": ".py",
   "mimetype": "text/x-python",
   "name": "python",
   "nbconvert_exporter": "python",
   "pygments_lexer": "ipython3",
   "version": "3.7.4"
  }
 },
 "nbformat": 4,
 "nbformat_minor": 4
}
